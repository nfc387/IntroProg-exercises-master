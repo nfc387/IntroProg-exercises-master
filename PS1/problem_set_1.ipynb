{
 "cells": [
  {
   "cell_type": "markdown",
   "metadata": {},
   "source": [
    "# Problem set 1: Solving the consumer problem"
   ]
  },
  {
   "cell_type": "markdown",
   "metadata": {},
   "source": [
    "In this first problem set, we will take a look at solving the canonical utility maximization problem for the consumer.  "
   ]
  },
  {
   "cell_type": "markdown",
   "metadata": {},
   "source": [
    "**Problem set structure:** \n",
    "* Each problem set consists of tasks and problems. _Tasks_ train you in using specific techniques, while _problems_ train you in solving actual economic problems. \n",
    "* Each problem set also contains solutions, which can be found in separate Python files.\n",
    "* The Python files `A[..].py` do not run out of the box. But you can copy the code into your notebook or user module. \n",
    "* *You should really try to solve the tasks and problems on your own before looking at the answers!* \n",
    "* You goal should, however, not be to write everything from scratch. \n",
    "* Finding similar code from the lectures and adjusting it is completely ok. I rarely begin  completely from scratch, I figure out when I last did something similar and copy in the code to begin with. A quick peak at the solution, and then trying to write the solution yourself is also a very beneficial approach."
   ]
  },
  {
   "cell_type": "markdown",
   "metadata": {},
   "source": [
    "**Multiple solutions:** Within the field of numerical analysis there is often many more than one way of solving a specific problem. So the solution provided is just one example. If you get the same result, but use another approach, that might be just as good (or even better)."
   ]
  },
  {
   "cell_type": "markdown",
   "metadata": {},
   "source": [
    "**Extra problems:** Solutions to the extra problems are not provided, but we encourage you to take a look at them if you have the time."
   ]
  },
  {
   "cell_type": "markdown",
   "metadata": {},
   "source": [
    "# Tasks"
   ]
  },
  {
   "cell_type": "markdown",
   "metadata": {},
   "source": [
    "## functions"
   ]
  },
  {
   "cell_type": "markdown",
   "metadata": {},
   "source": [
    "Implement a Python version of this function:"
   ]
  },
  {
   "cell_type": "markdown",
   "metadata": {},
   "source": [
    "$$ \n",
    "u(x_1,x_2) = (\\alpha x_1^{-\\beta} + (1-\\alpha) x_2^{-\\beta})^{-1/\\beta} \n",
    "$$"
   ]
  },
  {
   "cell_type": "code",
   "execution_count": 1,
   "metadata": {},
   "outputs": [
    {
     "name": "stdout",
     "output_type": "stream",
     "text": [
      "1.5649056679878548\n"
     ]
    }
   ],
   "source": [
    "# write your own code here\n",
    "def u(x_1 , x_2, alpha=0.3, beta=0.7):\n",
    "    return (alpha * x_1 **(-beta) + (1-alpha)*x_2**(-beta) ) ** (-1/beta)\n",
    "\n",
    "print(u(1,2)) \n"
   ]
  },
  {
   "cell_type": "markdown",
   "metadata": {},
   "source": [
    "**Answer:** see A1.py"
   ]
  },
  {
   "cell_type": "markdown",
   "metadata": {},
   "source": [
    "## print"
   ]
  },
  {
   "cell_type": "code",
   "execution_count": 2,
   "metadata": {},
   "outputs": [
    {
     "name": "stdout",
     "output_type": "stream",
     "text": [
      "1.05\n",
      "1.3\n",
      "2.2999999999999994\n",
      "2.5\n",
      "3.1\n"
     ]
    }
   ],
   "source": [
    "x1_vec = [1.05,1.3,2.3,2.5,3.1]\n",
    "x2_vec = [1.05,1.3,2.3,2.5,3.1]\n",
    "\n",
    "def print_table(xvec1, xvec2):\n",
    "    for i, j in zip(xvec1, xvec2):\n",
    "        print(u(i,j))\n",
    "        \n",
    "\n",
    "print_table(x1_vec,x2_vec)"
   ]
  },
  {
   "cell_type": "markdown",
   "metadata": {},
   "source": [
    "Construct a Python function `print_table(x1_vec,x2_vec)` to print values of `u(x1,x2)` in the table form shown below."
   ]
  },
  {
   "cell_type": "code",
   "execution_count": 3,
   "metadata": {},
   "outputs": [
    {
     "name": "stdout",
     "output_type": "stream",
     "text": [
      "        0     1     2     3     4\n",
      "0    1.05  1.22  1.73  1.82  2.04  \n",
      "1    1.12  1.3   1.89  1.99  2.25  \n",
      "2    1.27  1.51  2.3   2.44  2.82  \n",
      "3    1.3   1.54  2.36  2.5   2.9   \n",
      "4    1.35  1.6   2.5   2.66  3.1   \n",
      "\n"
     ]
    }
   ],
   "source": [
    "# update this code\n",
    "\n",
    "def print_table(x1_vec,x2_vec):\n",
    "    \n",
    "    # a. empty text\n",
    "    text = ''\n",
    "    \n",
    "    # b. top header\n",
    "    text += f'{\"\":3s}'\n",
    "    for j, x2 in enumerate(x2_vec):\n",
    "       text += f'{j:6d}'\n",
    "    text += '\\n' # line shift\n",
    "\n",
    "    # c. body\n",
    "    # missing lines\n",
    "    for enum, i in enumerate(x1_vec):        \n",
    "        text += str(enum) #initialize the index\n",
    "        text += f'{\"\":4s}' #indent to the proper spacing. Make shorter/longer?\n",
    "        \n",
    "        for j in x2_vec: #setup the second vector within the for loop. \n",
    "            text += f'{str((round(u(i,j),2))):6s}' #rounding behaviour for own personal preference\n",
    "        \n",
    "        text += \"\\n\" #new line\n",
    "    \n",
    "    # d. print\n",
    "    print(text)\n",
    "    \n",
    "\n",
    "\n",
    "print_table(x1_vec, x2_vec)"
   ]
  },
  {
   "cell_type": "markdown",
   "metadata": {},
   "source": [
    "**Answer:** see A2.py"
   ]
  },
  {
   "cell_type": "markdown",
   "metadata": {},
   "source": [
    "## matplotlib"
   ]
  },
  {
   "cell_type": "markdown",
   "metadata": {},
   "source": [
    "Reproduce the figure below of $u(x_1,x_2)$ using the `meshgrid` function from _numpy_ and the `plot_surface` function from _matplotlib_. "
   ]
  },
  {
   "cell_type": "code",
   "execution_count": 4,
   "metadata": {},
   "outputs": [],
   "source": [
    "# import plot modules\n",
    "import numpy as np\n",
    "# %matplotlib inline\n",
    "import matplotlib.pyplot as plt\n",
    "plt.style.use('seaborn-v0_8-whitegrid')\n",
    "from mpl_toolkits.mplot3d import Axes3D\n",
    "from matplotlib import cm # for colormaps"
   ]
  },
  {
   "cell_type": "code",
   "execution_count": 16,
   "metadata": {},
   "outputs": [
    {
     "name": "stdout",
     "output_type": "stream",
     "text": [
      "[[1.05       1.21515826 1.73246356 1.8163217  2.04052131]\n",
      " [1.11580723 1.3        1.89012647 1.98761867 2.25071459]\n",
      " [1.27425659 1.50823995 2.3        2.43698423 2.81547184]\n",
      " [1.29501886 1.53594065 2.35706361 2.5        2.89620467]\n",
      " [1.34559729 1.60382314 2.49951408 2.65778461 3.1       ]]\n"
     ]
    },
    {
     "data": {
      "text/plain": [
       "Text(0.5, 0, 'u')"
      ]
     },
     "execution_count": 16,
     "metadata": {},
     "output_type": "execute_result"
    },
    {
     "data": {
      "image/png": "[encoded data removed]",
      "text/plain": [
       "<Figure size 640x480 with 1 Axes>"
      ]
     },
     "metadata": {},
     "output_type": "display_data"
    }
   ],
   "source": [
    "# evaluate utility function\n",
    "x1_grid,x2_grid = np.meshgrid(x1_vec,x2_vec,indexing='ij')\n",
    "u_grid = u(x1_grid,x2_grid)\n",
    "print(u_grid)\n",
    "# write your code here\n",
    "fig = plt.figure() # initialize figure\n",
    "ax = fig.add_subplot(1,1,1,projection=\"3d\") # vector mesh using 3D plotting.\n",
    "ax.plot_surface(x1_grid, x2_grid, u_grid, cmap=\"turbo\") #plot grid. color is off? --> from matplotlib import colormaps\n",
    "ax.set_xlabel(\"x_1\")\n",
    "ax.set_ylabel(\"x_2\")\n",
    "ax.set_zlabel(\"u\")\n"
   ]
  },
  {
   "cell_type": "code",
   "execution_count": null,
   "metadata": {},
   "outputs": [],
   "source": []
  },
  {
   "cell_type": "markdown",
   "metadata": {},
   "source": [
    "**Answer:** see A3.py"
   ]
  },
  {
   "cell_type": "markdown",
   "metadata": {},
   "source": [
    "## optimize"
   ]
  },
  {
   "cell_type": "markdown",
   "metadata": {},
   "source": [
    "Consider the following minimization problem:\n",
    "\n",
    "$$\n",
    "\\min_x  f(x) = \\min_x \\sin(x) + 0.05 \\cdot x^2\n",
    "$$"
   ]
  },
  {
   "cell_type": "markdown",
   "metadata": {},
   "source": [
    "Solve this problem and illustrate your results."
   ]
  },
  {
   "cell_type": "code",
   "execution_count": 18,
   "metadata": {},
   "outputs": [
    {
     "name": "stdout",
     "output_type": "stream",
     "text": [
      "-0.8878628265110765\n"
     ]
    },
    {
     "name": "stderr",
     "output_type": "stream",
     "text": [
      "/var/folders/nc/mxht2rvj70z567nmv3cxrryc0000gn/T/ipykernel_65481/2625573903.py:8: DeprecationWarning: Conversion of an array with ndim > 0 to a scalar is deprecated, and will error in future. Ensure you extract a single element from your array before performing this operation. (Deprecated NumPy 1.25.)\n",
      "  return sin(x) + 0.05 * x**2\n"
     ]
    },
    {
     "data": {
      "image/png": "[encoded data removed]",
      "text/plain": [
       "<Figure size 640x480 with 1 Axes>"
      ]
     },
     "metadata": {},
     "output_type": "display_data"
    }
   ],
   "source": [
    "# update this code\n",
    "import numpy as np\n",
    "from math import sin\n",
    "from scipy import optimize\n",
    "import matplotlib.pyplot as plt\n",
    "# a. define function\n",
    "def f(x):\n",
    "    return sin(x) + 0.05 * x**2\n",
    "\n",
    "# b. solution using a loop\n",
    "N = 100\n",
    "x_vec = np.linspace(-10,10,N)\n",
    "f_vec = np.empty(N)    \n",
    "\n",
    "f_best = np.inf # initial maximum\n",
    "x_best = np.nan # not-a-number\n",
    "\n",
    "for i,x in enumerate(x_vec):\n",
    "    f_now = f_vec[i] = f(x)\n",
    "    if f_now < f_best:\n",
    "        f_best = f_now\n",
    "        x_best = x\n",
    "\n",
    "    # missing lines\n",
    "\n",
    "# c. solution using scipy optmize\n",
    "from scipy import optimize\n",
    "x_guess = [0]      \n",
    "obj_fun = lambda x: f(x)# missing line, hint: objective_function = lambda x: ?\n",
    "res = optimize.minimize(obj_fun, x_guess,method=\"Nelder-Mead\") # missing line, hint: res = optimize.minimize(?)\n",
    "x_best_scipy = res.x[0] # x_best_scipy = res.x[0]\n",
    "f_best_scipy = res.fun# f_best_scipy = res.fun\n",
    "\n",
    "# d. print\n",
    "print(f_best_scipy)\n",
    "# missing lines\n",
    "\n",
    "# e. figure\n",
    "fig = plt.figure()\n",
    "ax = fig.add_subplot(1,1,1)\n",
    "ax.plot(x_vec,f_vec)\n",
    "plt.show()\n",
    "# missing lines"
   ]
  },
  {
   "cell_type": "markdown",
   "metadata": {},
   "source": [
    "**Answer:** see A4.py"
   ]
  },
  {
   "cell_type": "markdown",
   "metadata": {},
   "source": [
    "# Problem"
   ]
  },
  {
   "cell_type": "markdown",
   "metadata": {},
   "source": [
    "Consider the following $M$-good, $x=(x_1,x_2,\\dots,x_M)$, **utility maximization problem** with exogenous income $I$, and price-vector $p=(p_1,p_2,\\dots,p_M)$,\n",
    "\n",
    "$$\n",
    "\\begin{aligned}\n",
    "V(p_{1},p_{2},\\dots,,p_{M},I) & = \\max_{x_{1},x_{2},\\dots,x_M} x_{1}^{\\alpha_1} x_{2}^{\\alpha_2} \\dots x_{M}^{\\alpha_M} \\\\\n",
    " & \\text{s.t.}\\\\\n",
    "E & = \\sum_{i=1}^{M}p_{i}x_{i} \\leq I,\\,\\,\\,p_{1},p_{2},\\dots,p_M,I>0\\\\\n",
    "x_{1},x_{2},\\dots,x_M & \\geq 0\n",
    "\\end{aligned}\n",
    "$$"
   ]
  },
  {
   "cell_type": "markdown",
   "metadata": {},
   "source": [
    "**Problem:** Solve the 5-good utility maximization problem for arbitrary preference parameters, $ \\alpha = (\\alpha_1,\\alpha_2,\\dots,\\alpha_5)$, prices and income. First, with a loop, and then with a numerical optimizer."
   ]
  },
  {
   "cell_type": "markdown",
   "metadata": {},
   "source": [
    "You can use the following functions:"
   ]
  },
  {
   "cell_type": "code",
   "execution_count": 19,
   "metadata": {},
   "outputs": [],
   "source": [
    "def utility_function(x,alpha):\n",
    "    # ensure you understand what this function is doing\n",
    "\n",
    "    u = 1\n",
    "    for x_now,alpha_now in zip(x,alpha):\n",
    "        u *= np.max(x_now,0)**alpha_now\n",
    "    return u\n",
    "    \n",
    "def expenditures(x,p):\n",
    "    # ensure you understand what this function is doing\n",
    "\n",
    "    E = 0\n",
    "    for x_now,p_now in zip(x,p):\n",
    "        E += p_now*x_now\n",
    "    return E\n",
    "\n",
    "def print_solution(x,alpha,I,p):\n",
    "    # you can just use this function\n",
    "    \n",
    "    # a. x values\n",
    "    text = 'x = ['\n",
    "    for x_now in x:\n",
    "        text += f'{x_now:.2f} '\n",
    "    text += f']\\n'\n",
    "    \n",
    "    # b. utility\n",
    "    u = utility_function(x,alpha)    \n",
    "    text += f'utility = {u:.3f}\\n'\n",
    "    \n",
    "    # c. expenditure vs. income\n",
    "    E =  expenditures(x,p)\n",
    "    text += f'E = {E:.2f} <= I = {I:.2f}\\n'\n",
    "    \n",
    "    # d. expenditure shares\n",
    "    e = p*x/I\n",
    "    text += 'expenditure shares = ['\n",
    "    for e_now in e:\n",
    "        text += f'{e_now:.2f} '\n",
    "    text += f']'        \n",
    "        \n",
    "    print(text)"
   ]
  },
  {
   "cell_type": "markdown",
   "metadata": {},
   "source": [
    "You can initially use the following parameter choices:"
   ]
  },
  {
   "cell_type": "code",
   "execution_count": 20,
   "metadata": {},
   "outputs": [],
   "source": [
    "alpha = np.ones(5)/5\n",
    "p = np.array([1,2,3,4,5])\n",
    "I = 10"
   ]
  },
  {
   "cell_type": "markdown",
   "metadata": {},
   "source": [
    "Solving with a loop:"
   ]
  },
  {
   "cell_type": "code",
   "execution_count": 21,
   "metadata": {},
   "outputs": [
    {
     "name": "stdout",
     "output_type": "stream",
     "text": [
      "x = [2.14 1.07 0.71 0.36 0.43 ]\n",
      "utility = 0.758\n",
      "E = 10.00 <= I = 10.00\n",
      "expenditure shares = [0.21 0.21 0.21 0.14 0.21 ]\n"
     ]
    }
   ],
   "source": [
    "# update this code\n",
    "\n",
    "N = 15 # number of points in each dimension\n",
    "fac = np.linspace(0,1,N) # vector betweein 0 and 1\n",
    "x_max = I/p # maximum x so E = I\n",
    "\n",
    "# missing lines\n",
    "u_best = -np.inf\n",
    "u_now = np.empty(5)\n",
    "for x1 in fac:\n",
    "   for x2 in fac:\n",
    "        for x3 in fac:\n",
    "            for x4 in fac:\n",
    "                for x5 in fac:\n",
    "                    x = np.array([x1,x2,x3,x4,x5])*x_max\n",
    "                    E = expenditures(x,p)\n",
    "                    if E <= I:\n",
    "                        u_now = utility_function(x,alpha)\n",
    "                        if u_now > u_best:\n",
    "                            x_best = x\n",
    "                            u_best = u_now\n",
    "\n",
    "                        # misssing lines\n",
    "\n",
    "print_solution(x_best,alpha,I,p)"
   ]
  },
  {
   "cell_type": "markdown",
   "metadata": {},
   "source": [
    "> **Extra:** The above code can be written nicer with the ``product`` function from ``itertools``."
   ]
  },
  {
   "cell_type": "markdown",
   "metadata": {},
   "source": [
    "Solving with a numerical optimizer:"
   ]
  },
  {
   "cell_type": "code",
   "execution_count": 22,
   "metadata": {},
   "outputs": [],
   "source": [
    "# update this code\n",
    "\n",
    "from scipy import optimize\n",
    "\n",
    "# a. contraint function (negative if violated)\n",
    "# missing line, hint: constraints = ({'type': 'ineq', 'fun': lambda x: ?})\n",
    "# missing line, hint: bounds = [(?,?) for p_now in p]\n",
    "\n",
    "# b. call optimizer\n",
    "initial_guess = (I/p)/6 # some guess, should be feasible\n",
    "# missing line, hint: res = optimize.minimize(?,?,method='SLSQP',bounds=bounds,constraints=constraints)\n",
    "\n",
    "# print(res.message) # check that the solver has terminated correctly\n",
    "\n",
    "# c. print result\n",
    "# print_solution(res.x,alpha,I,p)"
   ]
  },
  {
   "cell_type": "markdown",
   "metadata": {},
   "source": [
    "## Solutions using loops"
   ]
  },
  {
   "cell_type": "markdown",
   "metadata": {},
   "source": [
    "Using **raw loops**:"
   ]
  },
  {
   "cell_type": "markdown",
   "metadata": {
    "tags": []
   },
   "source": [
    "See A5.py"
   ]
  },
  {
   "cell_type": "markdown",
   "metadata": {},
   "source": [
    "Using **smart itertools loop:**"
   ]
  },
  {
   "cell_type": "markdown",
   "metadata": {
    "tags": []
   },
   "source": [
    "see A6.py    "
   ]
  },
  {
   "cell_type": "markdown",
   "metadata": {},
   "source": [
    "## Solutions using solvers"
   ]
  },
  {
   "cell_type": "code",
   "execution_count": 23,
   "metadata": {},
   "outputs": [],
   "source": [
    "from scipy import optimize\n",
    "\n"
   ]
  },
  {
   "cell_type": "markdown",
   "metadata": {},
   "source": [
    "Solution using a **constrained optimizer:**"
   ]
  },
  {
   "cell_type": "markdown",
   "metadata": {
    "tags": []
   },
   "source": [
    "see A7.py"
   ]
  },
  {
   "cell_type": "markdown",
   "metadata": {},
   "source": [
    "Solution using an **unconstrained optimizer:**"
   ]
  },
  {
   "cell_type": "markdown",
   "metadata": {
    "tags": []
   },
   "source": [
    "see A8.py"
   ]
  },
  {
   "cell_type": "markdown",
   "metadata": {},
   "source": [
    "# Extra Problems"
   ]
  },
  {
   "cell_type": "markdown",
   "metadata": {},
   "source": [
    "## Cost minimization"
   ]
  },
  {
   "cell_type": "markdown",
   "metadata": {},
   "source": [
    "Consider the following 2-good **cost minimziation problem** with required utility $u_0$, and price-vector $p=(p_1,p_2)$,\n",
    "\n",
    "$$\n",
    "\\begin{aligned}\n",
    "E(p_{1},p_{2},u_0) & = \\min_{x_{1},x_{2}} p_1 x_1+p_2 x_2\\\\\n",
    " & \\text{s.t.}\\\\\n",
    "x_{1}^{\\alpha}x_{2}^{1-\\alpha} & \\geq u_0 \\\\\n",
    "x_{1},x_{2} & \\geq 0\n",
    "\\end{aligned}\n",
    "$$"
   ]
  },
  {
   "cell_type": "markdown",
   "metadata": {},
   "source": [
    "**Problem:** Solve the 2-good cost-minimization problem with arbitrary required utility, prices and income. Present your results graphically showing that the optimum is a point, where a budgetline is targent to the indifference curve through $u_0$."
   ]
  },
  {
   "cell_type": "markdown",
   "metadata": {},
   "source": [
    "## Classy solution"
   ]
  },
  {
   "cell_type": "markdown",
   "metadata": {},
   "source": [
    "**Problem:** Implement your solution to the utility maximization problem and/or the cost minimization problem above in a class as seen in Lecture 3. "
   ]
  }
 ],
 "metadata": {
  "kernelspec": {
   "display_name": "Python 3 (ipykernel)",
   "language": "python",
   "name": "python3"
  },
  "language_info": {
   "codemirror_mode": {
    "name": "ipython",
    "version": 3
   },
   "file_extension": ".py",
   "mimetype": "text/x-python",
   "name": "python",
   "nbconvert_exporter": "python",
   "pygments_lexer": "ipython3",
   "version": "3.11.5"
  },
  "toc-autonumbering": true
 },
 "nbformat": 4,
 "nbformat_minor": 4
}
