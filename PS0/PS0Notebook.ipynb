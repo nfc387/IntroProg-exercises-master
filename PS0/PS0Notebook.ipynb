{
 "cells": [
  {
   "cell_type": "markdown",
   "metadata": {},
   "source": [
    "# Problem set 0"
   ]
  },
  {
   "cell_type": "markdown",
   "metadata": {},
   "source": [
    "This is the first problem set. Line break here <br>\n",
    "*Testing of markdown* - line break<br>\n",
    "**More testing** should now be same line\n",
    "***EVEN MORE***\n",
    "### Headers automatically make linebreaks\n",
    "Something something\n"
   ]
  },
  {
   "cell_type": "code",
   "execution_count": 5,
   "metadata": {},
   "outputs": [
    {
     "name": "stdout",
     "output_type": "stream",
     "text": [
      "3\n"
     ]
    }
   ],
   "source": [
    "a = 1\n",
    "b = 2\n",
    "c = a + b\n",
    "print(c)"
   ]
  },
  {
   "cell_type": "code",
   "execution_count": 9,
   "metadata": {},
   "outputs": [
    {
     "name": "stdout",
     "output_type": "stream",
     "text": [
      "[0, 1]\n",
      "[2, 3, 4, 5]\n"
     ]
    }
   ],
   "source": [
    "#slicing\n",
    "x = [i for i in range(6)] #same as x = [0,1,2,3,4,5]\n",
    "print(x[:2])\n",
    "print(x[2:])\n"
   ]
  },
  {
   "cell_type": "code",
   "execution_count": 21,
   "metadata": {},
   "outputs": [
    {
     "name": "stdout",
     "output_type": "stream",
     "text": [
      "[1, 2, 4]\n",
      "[1, 2, 3]\n"
     ]
    }
   ],
   "source": [
    "x = [1,2,3]\n",
    "z = [i for i in x] # generates a new list from the elements in x\n",
    "y = x # references to the same list as x / y points to the same object as x.\n",
    "y[-1] = 4\n",
    "print(x)\n",
    "print(z)"
   ]
  },
  {
   "cell_type": "markdown",
   "metadata": {},
   "source": [
    "The above code shows how Python handles references. x references a list [1,2,3] and y does the same. The ease of use is declaring y = x which is effectively the same as pointing to the same locating in memory. "
   ]
  },
  {
   "cell_type": "code",
   "execution_count": 20,
   "metadata": {},
   "outputs": [
    {
     "name": "stdout",
     "output_type": "stream",
     "text": [
      "0\n",
      "1\n"
     ]
    }
   ],
   "source": [
    "for i in range(5):\n",
    "    if i >= 2: break\n",
    "    print(i)"
   ]
  },
  {
   "cell_type": "code",
   "execution_count": 23,
   "metadata": {},
   "outputs": [
    {
     "name": "stdout",
     "output_type": "stream",
     "text": [
      "0\n",
      "1\n",
      "3\n",
      "4\n"
     ]
    }
   ],
   "source": [
    "for i in range(5):\n",
    "    if i == 2:\n",
    "        continue\n",
    "    print(i)"
   ]
  },
  {
   "cell_type": "code",
   "execution_count": 27,
   "metadata": {},
   "outputs": [
    {
     "name": "stdout",
     "output_type": "stream",
     "text": [
      "just right\n"
     ]
    }
   ],
   "source": [
    "x = 3\n",
    "if x > 3:\n",
    "    print(\"too big\")\n",
    "elif x < 1:\n",
    "    print(\"too small\")\n",
    "else:\n",
    "    print(\"just right\")"
   ]
  },
  {
   "cell_type": "code",
   "execution_count": 33,
   "metadata": {},
   "outputs": [
    {
     "name": "stdout",
     "output_type": "stream",
     "text": [
      "2\n",
      "2\n",
      "3\n",
      "2\n"
     ]
    }
   ],
   "source": [
    "a = 1\n",
    "def f(x):\n",
    "    return x+a\n",
    "\n",
    "def g(x, a=1):\n",
    "    return x+a\n",
    "\n",
    "print(f(1))\n",
    "print(g(1))\n",
    "a=2\n",
    "print(f(1))\n",
    "print(g(1))"
   ]
  },
  {
   "cell_type": "code",
   "execution_count": 44,
   "metadata": {},
   "outputs": [
    {
     "name": "stdout",
     "output_type": "stream",
     "text": [
      "0.30000000000000004\n",
      "False\n",
      "1.0\n",
      "True\n",
      "True\n",
      "True\n",
      "True\n",
      "True\n"
     ]
    }
   ],
   "source": [
    "import numpy as np \n",
    "\n",
    "print(0.1 + 0.2)\n",
    "print(0.1 + 0.2 == 0.3)\n",
    "print(0.5+0.5)\n",
    "print(0.5 + 0.5 == 1.0)\n",
    "print(np.isclose(0.1+0.2,0.3)) #numpy way of handling floating point numbers\n",
    "print(np.isclose(1e-200*1e200*1e200*1e-200,1.0))\n",
    "print(np.isinf(1e-200*(1e200*1e200)*1e-200))\n",
    "print(np.isclose(1e200*(1e-200*1e-200)*1e200 ,0.0))"
   ]
  },
  {
   "cell_type": "code",
   "execution_count": 53,
   "metadata": {},
   "outputs": [
    {
     "name": "stdout",
     "output_type": "stream",
     "text": [
      "[2 3 4]\n",
      "[3 4 5]\n",
      "[4 5 6]\n",
      "[3 4 5]\n"
     ]
    }
   ],
   "source": [
    "x = np.array([1,2,3])\n",
    "y = x\n",
    "x += 1\n",
    "print(x)\n",
    "x[:] = x + 1\n",
    "print(x)\n",
    "x = x + 1\n",
    "print(x)\n",
    "print(y)"
   ]
  },
  {
   "cell_type": "code",
   "execution_count": 55,
   "metadata": {},
   "outputs": [
    {
     "name": "stdout",
     "output_type": "stream",
     "text": [
      "4\n"
     ]
    }
   ],
   "source": [
    "class SquareClass:\n",
    "    def __init__(self, length, width):\n",
    "        self.length = length\n",
    "        self.width = width\n",
    "    \n",
    "    def size(self):\n",
    "        return self.length*self.width\n",
    "    \n",
    "square = SquareClass(2,2)\n",
    "print(square.size())"
   ]
  }
 ],
 "metadata": {
  "kernelspec": {
   "display_name": "base",
   "language": "python",
   "name": "python3"
  },
  "language_info": {
   "codemirror_mode": {
    "name": "ipython",
    "version": 3
   },
   "file_extension": ".py",
   "mimetype": "text/x-python",
   "name": "python",
   "nbconvert_exporter": "python",
   "pygments_lexer": "ipython3",
   "version": "3.11.5"
  }
 },
 "nbformat": 4,
 "nbformat_minor": 2
}
